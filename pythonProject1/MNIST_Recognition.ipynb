{
 "cells": [
  {
   "cell_type": "markdown",
   "metadata": {},
   "source": [
    "2. 加载和预处理数据  \n",
    "创建一个Python文件，比如叫main.py，然后开始编程。首先导入必要的库："
   ]
  },
  {
   "cell_type": "code",
   "execution_count": 24,
   "metadata": {},
   "outputs": [],
   "source": [
    "import torch\n",
    "import torchvision\n",
    "import torchvision.transforms as transforms\n",
    "from torch.utils.data import DataLoader\n",
    "\n",
    "# 设置数据转换\n",
    "transform = transforms.Compose([\n",
    "transforms.ToTensor(), # 转换图像为Tensor\n",
    "transforms.Normalize((0.5,), (0.5,)) # 标准化\n",
    "])\n",
    "# 下载训练集和测试集\n",
    "train_set = torchvision.datasets.MNIST(root='./dataset', train=True, download=False,\n",
    "transform=transform)\n",
    "test_set = torchvision.datasets.MNIST(root='./dataset', train=False, download=False,\n",
    "transform=transform)\n",
    "\n",
    "# 加载数据\n",
    "train_loader = DataLoader(train_set, batch_size=64, shuffle=True)\n",
    "test_loader = DataLoader(test_set, batch_size =64 ,shuffle=False)"
   ]
  },
  {
   "cell_type": "markdown",
   "metadata": {},
   "source": [
    "3. 定义神经网络模型  \n",
    "继续在 main.py 中添加网络模型的定义："
   ]
  },
  {
   "cell_type": "code",
   "execution_count": 25,
   "metadata": {},
   "outputs": [],
   "source": [
    "import torch.nn as nn\n",
    "import torch.nn.functional as F\n",
    "class Net(nn.Module):\n",
    "    def __init__(self):\n",
    "        super(Net, self).__init__()\n",
    "        self.conv1 = nn.Sequential(\n",
    "            nn.Conv2d(      # (1, 28, 28)\n",
    "                in_channels=1,\n",
    "                out_channels=16,\n",
    "                kernel_size=5,\n",
    "                stride=1,\n",
    "                padding=2, # if stride = 1, padding = (kennel_size - 1)/2 = (5-1)/2\n",
    "            ), # -> (16, 28, 28)\n",
    "            nn.ReLU(), # -> (16, 28, 28)\n",
    "            nn.MaxPool2d(kernel_size=2), # -> (16, 14, 14)\n",
    "        )\n",
    "        self.conv2 = nn.Sequential( # (16, 14, 14)\n",
    "            nn.Conv2d(16, 32, 5, 1, 2), # -> (32, 14, 14)\n",
    "            nn.ReLU(), \n",
    "            nn.MaxPool2d(2), \n",
    "        )\n",
    "        self.out = nn.Linear(32 * 7 * 7, 10)\n",
    "    def forward(self, x):\n",
    "        x = self.conv1(x)\n",
    "        x = self.conv2(x)\n",
    "        x = x.view(x.size(0), -1)\n",
    "        output = self.out(x)\n",
    "        return output\n",
    "\n",
    "# # 实例化网络\n",
    "# net = Net()\n"
   ]
  },
  {
   "cell_type": "code",
   "execution_count": 26,
   "metadata": {},
   "outputs": [
    {
     "data": {
      "text/plain": [
       "Net(\n",
       "  (conv1): Sequential(\n",
       "    (0): Conv2d(1, 16, kernel_size=(5, 5), stride=(1, 1), padding=(2, 2))\n",
       "    (1): ReLU()\n",
       "    (2): MaxPool2d(kernel_size=2, stride=2, padding=0, dilation=1, ceil_mode=False)\n",
       "  )\n",
       "  (conv2): Sequential(\n",
       "    (0): Conv2d(16, 32, kernel_size=(5, 5), stride=(1, 1), padding=(2, 2))\n",
       "    (1): ReLU()\n",
       "    (2): MaxPool2d(kernel_size=2, stride=2, padding=0, dilation=1, ceil_mode=False)\n",
       "  )\n",
       "  (out): Linear(in_features=1568, out_features=10, bias=True)\n",
       ")"
      ]
     },
     "execution_count": 26,
     "metadata": {},
     "output_type": "execute_result"
    }
   ],
   "source": [
    "device = torch.device('cuda' if torch.cuda.is_available() else cpu)\n",
    "net = Net()\n",
    "net.to(device)"
   ]
  },
  {
   "cell_type": "markdown",
   "metadata": {},
   "source": [
    "4. 定义损失函数和优化器"
   ]
  },
  {
   "cell_type": "code",
   "execution_count": 27,
   "metadata": {},
   "outputs": [],
   "source": [
    "import torch.optim as optim\n",
    "\n",
    "# 定义损失函数和优化器\n",
    "criterion = nn.CrossEntropyLoss()\n",
    "optimizer = optim.SGD(net.parameters(), lr=0.01 , momentum=0.9)\n",
    "\n",
    "train_loss_list = []\n",
    "# train_acc = []\n",
    "# test_acc = []"
   ]
  },
  {
   "cell_type": "markdown",
   "metadata": {},
   "source": [
    "5. 训练网络  \n",
    "在main.py 中添加训练网络的代码："
   ]
  },
  {
   "cell_type": "code",
   "execution_count": 28,
   "metadata": {},
   "outputs": [],
   "source": [
    "def train(epoch):\n",
    "    net.train()\n",
    "    train_loss = 0\n",
    "    for batch_idx, (data, target) in enumerate(train_loader):\n",
    "        optimizer.zero_grad()\n",
    "        data, target = data.to(device), target.to(device)\n",
    "        output = net(data)\n",
    "        loss = criterion(output, target)\n",
    "        train_loss += loss.item()\n",
    "        loss.backward()\n",
    "        optimizer.step()\n",
    "        if batch_idx % 100 == 99:\n",
    "            print('Train Epoch: {} [{}/{} ({:.2f}%)]\\tLoss: {:.6f}'.format(\n",
    "                epoch, (batch_idx + 1) * len(data), len(train_loader.dataset),\n",
    "                100. * (batch_idx + 1) / len(train_loader), train_loss))\n",
    "    train_loss_list.append(train_loss)\n",
    "    # train_acc.append(100. * (batch_idx + 1) / len(train_loader))"
   ]
  },
  {
   "cell_type": "markdown",
   "metadata": {},
   "source": [
    "6. 测试网络  \n",
    "在main.py中添加测试网络的代码："
   ]
  },
  {
   "cell_type": "code",
   "execution_count": 29,
   "metadata": {},
   "outputs": [],
   "source": [
    "def test():\n",
    "    net.eval()\n",
    "    test_loss = 0\n",
    "    correct = 0\n",
    "    with torch.no_grad():\n",
    "        for data, target in test_loader:\n",
    "            data, target = data.to(device), target.to(device)\n",
    "            output = net(data)\n",
    "            test_loss += criterion(output, target).item()\n",
    "            pred = output.argmax(dim=1 , keepdim=True)\n",
    "            correct += pred.eq(target.view_as(pred)).sum().item()\n",
    "\n",
    "        test_loss /= len(test_loader.dataset)\n",
    "        print('\\nTest set: Average loss: {:.4f} , Accuracy: {}/{} ({:.2f}%)\\n'.format(\n",
    "            test_loss, correct, len(test_loader.dataset),\n",
    "            100. * correct / len(test_loader.dataset)))"
   ]
  },
  {
   "cell_type": "markdown",
   "metadata": {},
   "source": [
    "7. 运行训练和测试  \n",
    "最后，在 main.py 中添加主函数来运行训练和测试过程："
   ]
  },
  {
   "cell_type": "code",
   "execution_count": 30,
   "metadata": {},
   "outputs": [
    {
     "name": "stdout",
     "output_type": "stream",
     "text": [
      "Train Epoch: 1 [6400/60000 (10.66%)]\tLoss: 80.305741\n",
      "Train Epoch: 1 [12800/60000 (21.32%)]\tLoss: 99.545022\n",
      "Train Epoch: 1 [19200/60000 (31.98%)]\tLoss: 113.106708\n",
      "Train Epoch: 1 [25600/60000 (42.64%)]\tLoss: 123.428041\n",
      "Train Epoch: 1 [32000/60000 (53.30%)]\tLoss: 132.257699\n",
      "Train Epoch: 1 [38400/60000 (63.97%)]\tLoss: 140.472899\n",
      "Train Epoch: 1 [44800/60000 (74.63%)]\tLoss: 148.873457\n",
      "Train Epoch: 1 [51200/60000 (85.29%)]\tLoss: 154.515693\n",
      "Train Epoch: 1 [57600/60000 (95.95%)]\tLoss: 161.612180\n",
      "\n",
      "Test set: Average loss: 0.0008 , Accuracy: 9843/10000 (98.43%)\n",
      "\n",
      "Train Epoch: 2 [6400/60000 (10.66%)]\tLoss: 5.092240\n",
      "Train Epoch: 2 [12800/60000 (21.32%)]\tLoss: 9.865304\n",
      "Train Epoch: 2 [19200/60000 (31.98%)]\tLoss: 15.082000\n",
      "Train Epoch: 2 [25600/60000 (42.64%)]\tLoss: 20.949199\n",
      "Train Epoch: 2 [32000/60000 (53.30%)]\tLoss: 26.158099\n",
      "Train Epoch: 2 [38400/60000 (63.97%)]\tLoss: 30.924732\n",
      "Train Epoch: 2 [44800/60000 (74.63%)]\tLoss: 35.906160\n",
      "Train Epoch: 2 [51200/60000 (85.29%)]\tLoss: 40.064521\n",
      "Train Epoch: 2 [57600/60000 (95.95%)]\tLoss: 44.423902\n",
      "\n",
      "Test set: Average loss: 0.0006 , Accuracy: 9877/10000 (98.77%)\n",
      "\n",
      "Train Epoch: 3 [6400/60000 (10.66%)]\tLoss: 4.016721\n",
      "Train Epoch: 3 [12800/60000 (21.32%)]\tLoss: 8.209830\n",
      "Train Epoch: 3 [19200/60000 (31.98%)]\tLoss: 12.051045\n",
      "Train Epoch: 3 [25600/60000 (42.64%)]\tLoss: 15.819418\n",
      "Train Epoch: 3 [32000/60000 (53.30%)]\tLoss: 19.378914\n",
      "Train Epoch: 3 [38400/60000 (63.97%)]\tLoss: 22.724073\n",
      "Train Epoch: 3 [44800/60000 (74.63%)]\tLoss: 26.119956\n",
      "Train Epoch: 3 [51200/60000 (85.29%)]\tLoss: 29.730777\n",
      "Train Epoch: 3 [57600/60000 (95.95%)]\tLoss: 32.952766\n",
      "\n",
      "Test set: Average loss: 0.0005 , Accuracy: 9899/10000 (98.99%)\n",
      "\n",
      "Train Epoch: 4 [6400/60000 (10.66%)]\tLoss: 3.482085\n",
      "Train Epoch: 4 [12800/60000 (21.32%)]\tLoss: 6.732974\n",
      "Train Epoch: 4 [19200/60000 (31.98%)]\tLoss: 9.991842\n",
      "Train Epoch: 4 [25600/60000 (42.64%)]\tLoss: 12.733469\n",
      "Train Epoch: 4 [32000/60000 (53.30%)]\tLoss: 15.389805\n",
      "Train Epoch: 4 [38400/60000 (63.97%)]\tLoss: 17.891657\n",
      "Train Epoch: 4 [44800/60000 (74.63%)]\tLoss: 21.743286\n",
      "Train Epoch: 4 [51200/60000 (85.29%)]\tLoss: 24.142508\n",
      "Train Epoch: 4 [57600/60000 (95.95%)]\tLoss: 27.236661\n",
      "\n",
      "Test set: Average loss: 0.0005 , Accuracy: 9892/10000 (98.92%)\n",
      "\n",
      "Train Epoch: 5 [6400/60000 (10.66%)]\tLoss: 2.052161\n",
      "Train Epoch: 5 [12800/60000 (21.32%)]\tLoss: 4.907361\n",
      "Train Epoch: 5 [19200/60000 (31.98%)]\tLoss: 7.396268\n",
      "Train Epoch: 5 [25600/60000 (42.64%)]\tLoss: 10.385891\n",
      "Train Epoch: 5 [32000/60000 (53.30%)]\tLoss: 13.295308\n",
      "Train Epoch: 5 [38400/60000 (63.97%)]\tLoss: 15.515185\n",
      "Train Epoch: 5 [44800/60000 (74.63%)]\tLoss: 17.947613\n",
      "Train Epoch: 5 [51200/60000 (85.29%)]\tLoss: 20.810531\n",
      "Train Epoch: 5 [57600/60000 (95.95%)]\tLoss: 22.743844\n",
      "\n",
      "Test set: Average loss: 0.0004 , Accuracy: 9910/10000 (99.10%)\n",
      "\n",
      "Train Epoch: 6 [6400/60000 (10.66%)]\tLoss: 2.343587\n",
      "Train Epoch: 6 [12800/60000 (21.32%)]\tLoss: 4.534580\n",
      "Train Epoch: 6 [19200/60000 (31.98%)]\tLoss: 6.712113\n",
      "Train Epoch: 6 [25600/60000 (42.64%)]\tLoss: 8.389375\n",
      "Train Epoch: 6 [32000/60000 (53.30%)]\tLoss: 10.596807\n",
      "Train Epoch: 6 [38400/60000 (63.97%)]\tLoss: 12.955894\n",
      "Train Epoch: 6 [44800/60000 (74.63%)]\tLoss: 14.885410\n",
      "Train Epoch: 6 [51200/60000 (85.29%)]\tLoss: 16.663426\n",
      "Train Epoch: 6 [57600/60000 (95.95%)]\tLoss: 19.044100\n",
      "\n",
      "Test set: Average loss: 0.0004 , Accuracy: 9925/10000 (99.25%)\n",
      "\n",
      "Train Epoch: 7 [6400/60000 (10.66%)]\tLoss: 1.606258\n",
      "Train Epoch: 7 [12800/60000 (21.32%)]\tLoss: 3.034326\n",
      "Train Epoch: 7 [19200/60000 (31.98%)]\tLoss: 4.978305\n",
      "Train Epoch: 7 [25600/60000 (42.64%)]\tLoss: 6.710676\n",
      "Train Epoch: 7 [32000/60000 (53.30%)]\tLoss: 8.067508\n",
      "Train Epoch: 7 [38400/60000 (63.97%)]\tLoss: 9.648092\n",
      "Train Epoch: 7 [44800/60000 (74.63%)]\tLoss: 11.479361\n",
      "Train Epoch: 7 [51200/60000 (85.29%)]\tLoss: 13.786342\n",
      "Train Epoch: 7 [57600/60000 (95.95%)]\tLoss: 15.527934\n",
      "\n",
      "Test set: Average loss: 0.0005 , Accuracy: 9898/10000 (98.98%)\n",
      "\n",
      "Train Epoch: 8 [6400/60000 (10.66%)]\tLoss: 1.271376\n",
      "Train Epoch: 8 [12800/60000 (21.32%)]\tLoss: 2.927322\n",
      "Train Epoch: 8 [19200/60000 (31.98%)]\tLoss: 4.558557\n",
      "Train Epoch: 8 [25600/60000 (42.64%)]\tLoss: 5.818074\n",
      "Train Epoch: 8 [32000/60000 (53.30%)]\tLoss: 7.244984\n",
      "Train Epoch: 8 [38400/60000 (63.97%)]\tLoss: 9.156035\n",
      "Train Epoch: 8 [44800/60000 (74.63%)]\tLoss: 10.749327\n",
      "Train Epoch: 8 [51200/60000 (85.29%)]\tLoss: 12.346093\n",
      "Train Epoch: 8 [57600/60000 (95.95%)]\tLoss: 14.144956\n",
      "\n",
      "Test set: Average loss: 0.0007 , Accuracy: 9871/10000 (98.71%)\n",
      "\n",
      "Train Epoch: 9 [6400/60000 (10.66%)]\tLoss: 1.457507\n",
      "Train Epoch: 9 [12800/60000 (21.32%)]\tLoss: 2.327467\n",
      "Train Epoch: 9 [19200/60000 (31.98%)]\tLoss: 3.505325\n",
      "Train Epoch: 9 [25600/60000 (42.64%)]\tLoss: 4.607490\n",
      "Train Epoch: 9 [32000/60000 (53.30%)]\tLoss: 5.829334\n",
      "Train Epoch: 9 [38400/60000 (63.97%)]\tLoss: 7.246761\n",
      "Train Epoch: 9 [44800/60000 (74.63%)]\tLoss: 8.993209\n",
      "Train Epoch: 9 [51200/60000 (85.29%)]\tLoss: 10.517632\n",
      "Train Epoch: 9 [57600/60000 (95.95%)]\tLoss: 12.244170\n",
      "\n",
      "Test set: Average loss: 0.0005 , Accuracy: 9892/10000 (98.92%)\n",
      "\n",
      "Train Epoch: 10 [6400/60000 (10.66%)]\tLoss: 1.329858\n",
      "Train Epoch: 10 [12800/60000 (21.32%)]\tLoss: 2.679454\n",
      "Train Epoch: 10 [19200/60000 (31.98%)]\tLoss: 3.833329\n",
      "Train Epoch: 10 [25600/60000 (42.64%)]\tLoss: 5.145534\n",
      "Train Epoch: 10 [32000/60000 (53.30%)]\tLoss: 6.187077\n",
      "Train Epoch: 10 [38400/60000 (63.97%)]\tLoss: 7.503806\n",
      "Train Epoch: 10 [44800/60000 (74.63%)]\tLoss: 8.398035\n",
      "Train Epoch: 10 [51200/60000 (85.29%)]\tLoss: 9.647544\n",
      "Train Epoch: 10 [57600/60000 (95.95%)]\tLoss: 11.041428\n",
      "\n",
      "Test set: Average loss: 0.0005 , Accuracy: 9910/10000 (99.10%)\n",
      "\n"
     ]
    }
   ],
   "source": [
    "def main():\n",
    "    for epoch in range (1, 11): # 训练10个epoch\n",
    "        train(epoch)\n",
    "        test()\n",
    "if __name__=='__main__':\n",
    "    main()"
   ]
  },
  {
   "cell_type": "code",
   "execution_count": 31,
   "metadata": {},
   "outputs": [
    {
     "name": "stdout",
     "output_type": "stream",
     "text": [
      "[1, 2, 3, 4, 5, 6, 7, 8, 9, 10]\n"
     ]
    },
    {
     "data": {
      "image/png": "[encoded data removed]",
      "text/plain": [
       "<Figure size 640x480 with 1 Axes>"
      ]
     },
     "metadata": {},
     "output_type": "display_data"
    }
   ],
   "source": [
    "import matplotlib.pyplot as plt\n",
    "\n",
    "li = [i for i in range(1,11)]\n",
    "print(li)\n",
    "plt.plot(li, train_loss_list)\n",
    "plt.savefig('xunlian.jpg')"
   ]
  },
  {
   "cell_type": "markdown",
   "metadata": {},
   "source": []
  }
 ],
 "metadata": {
  "kernelspec": {
   "display_name": "pytorch",
   "language": "python",
   "name": "python3"
  },
  "language_info": {
   "codemirror_mode": {
    "name": "ipython",
    "version": 3
   },
   "file_extension": ".py",
   "mimetype": "text/x-python",
   "name": "python",
   "nbconvert_exporter": "python",
   "pygments_lexer": "ipython3",
   "version": "3.8.18"
  }
 },
 "nbformat": 4,
 "nbformat_minor": 2
}
